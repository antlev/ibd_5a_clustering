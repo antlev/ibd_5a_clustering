{
  "nbformat": 4,
  "nbformat_minor": 0,
  "metadata": {
    "colab": {
      "name": "deep_autoencoder_generation.ipynb",
      "version": "0.3.2",
      "provenance": [],
      "collapsed_sections": []
    },
    "kernelspec": {
      "name": "python3",
      "display_name": "Python 3"
    }
  },
  "cells": [
    {
      "cell_type": "markdown",
      "metadata": {
        "id": "kh5pzP8pUEQ2",
        "colab_type": "text"
      },
      "source": [
        "# MNIST import\n",
        "\n"
      ]
    },
    {
      "cell_type": "code",
      "metadata": {
        "id": "7cXW4buXulnU",
        "colab_type": "code",
        "outputId": "8805cb9a-3e1e-4c41-b7df-8cb03ba531aa",
        "colab": {
          "base_uri": "https://localhost:8080/",
          "height": 72
        }
      },
      "source": [
        "from keras.datasets import mnist\n",
        "import numpy as np\n",
        "(x_train, _), (x_test, _) = mnist.load_data()\n",
        "\n",
        "x_train = x_train.astype('float32') / 255.\n",
        "x_test = x_test.astype('float32') / 255.\n",
        "x_train = x_train.reshape((len(x_train), np.prod(x_train.shape[1:])))\n",
        "x_test = x_test.reshape((len(x_test), np.prod(x_test.shape[1:])))\n",
        "print (x_train.shape)\n",
        "print (x_test.shape)"
      ],
      "execution_count": 4,
      "outputs": [
        {
          "output_type": "stream",
          "text": [
            "Using TensorFlow backend.\n"
          ],
          "name": "stderr"
        },
        {
          "output_type": "stream",
          "text": [
            "(60000, 784)\n",
            "(10000, 784)\n"
          ],
          "name": "stdout"
        }
      ]
    },
    {
      "cell_type": "code",
      "metadata": {
        "id": "XElTFoVYUiBs",
        "colab_type": "code",
        "outputId": "ebd14b15-57e0-4fae-c34b-7c0b2da14f02",
        "colab": {
          "base_uri": "https://localhost:8080/",
          "height": 1983
        }
      },
      "source": [
        "from keras.layers import Input, Dense\n",
        "from keras.models import Model\n",
        "from keras import regularizers\n",
        "\n",
        "encoding_dim = 2\n",
        "input_img = Input(shape=(784,))\n",
        "encoded = Dense(128, activation='relu')(input_img)\n",
        "encoded = Dense(64, activation='relu')(encoded)\n",
        "encoded = Dense(encoding_dim, activation='relu')(encoded)\n",
        "decoded = Dense(64, activation='relu')(encoded)\n",
        "decoded = Dense(128, activation='relu')(decoded)\n",
        "decoded = Dense(784, activation='relu')(decoded)\n",
        "\n",
        "encoder = Model(input_img, encoded)\n",
        "autoencoder=Model(input_img, decoded)\n",
        "\n",
        "encoded_input = Input(shape=(encoding_dim,))\n",
        "deco = autoencoder.layers[-3](encoded_input)\n",
        "deco = autoencoder.layers[-2](deco)\n",
        "deco = autoencoder.layers[-1](deco)\n",
        "decoder = Model(encoded_input, deco)\n",
        "\n",
        "autoencoder.compile(optimizer='adam', loss='logcosh')\n",
        "\n",
        "autoencoder.fit(x_train, x_train,\n",
        "                epochs=50,\n",
        "                batch_size=256,\n",
        "                shuffle=True,\n",
        "                validation_data=(x_test, x_test))\n",
        "\n",
        "\n",
        "encoded_imgs = encoder.predict(x_test)\n",
        "predicted = autoencoder.predict(x_test)\n"
      ],
      "execution_count": 5,
      "outputs": [
        {
          "output_type": "stream",
          "text": [
            "WARNING:tensorflow:From /usr/local/lib/python3.6/dist-packages/tensorflow/python/framework/op_def_library.py:263: colocate_with (from tensorflow.python.framework.ops) is deprecated and will be removed in a future version.\n",
            "Instructions for updating:\n",
            "Colocations handled automatically by placer.\n",
            "WARNING:tensorflow:From /usr/local/lib/python3.6/dist-packages/tensorflow/python/ops/math_ops.py:3066: to_int32 (from tensorflow.python.ops.math_ops) is deprecated and will be removed in a future version.\n",
            "Instructions for updating:\n",
            "Use tf.cast instead.\n",
            "Train on 60000 samples, validate on 10000 samples\n",
            "Epoch 1/50\n",
            "60000/60000 [==============================] - 5s 75us/step - loss: 0.0374 - val_loss: 0.0362\n",
            "Epoch 2/50\n",
            "60000/60000 [==============================] - 4s 69us/step - loss: 0.0335 - val_loss: 0.0316\n",
            "Epoch 3/50\n",
            "60000/60000 [==============================] - 4s 69us/step - loss: 0.0308 - val_loss: 0.0298\n",
            "Epoch 4/50\n",
            "60000/60000 [==============================] - 4s 70us/step - loss: 0.0292 - val_loss: 0.0288\n",
            "Epoch 5/50\n",
            "60000/60000 [==============================] - 4s 69us/step - loss: 0.0283 - val_loss: 0.0281\n",
            "Epoch 6/50\n",
            "60000/60000 [==============================] - 4s 69us/step - loss: 0.0278 - val_loss: 0.0276\n",
            "Epoch 7/50\n",
            "60000/60000 [==============================] - 4s 70us/step - loss: 0.0273 - val_loss: 0.0272\n",
            "Epoch 8/50\n",
            "60000/60000 [==============================] - 4s 69us/step - loss: 0.0268 - val_loss: 0.0267\n",
            "Epoch 9/50\n",
            "60000/60000 [==============================] - 4s 69us/step - loss: 0.0265 - val_loss: 0.0265\n",
            "Epoch 10/50\n",
            "60000/60000 [==============================] - 4s 69us/step - loss: 0.0262 - val_loss: 0.0259\n",
            "Epoch 11/50\n",
            "60000/60000 [==============================] - 4s 70us/step - loss: 0.0258 - val_loss: 0.0257\n",
            "Epoch 12/50\n",
            "60000/60000 [==============================] - 4s 70us/step - loss: 0.0256 - val_loss: 0.0255\n",
            "Epoch 13/50\n",
            "60000/60000 [==============================] - 4s 70us/step - loss: 0.0254 - val_loss: 0.0253\n",
            "Epoch 14/50\n",
            "60000/60000 [==============================] - 4s 74us/step - loss: 0.0252 - val_loss: 0.0252\n",
            "Epoch 15/50\n",
            "60000/60000 [==============================] - 4s 74us/step - loss: 0.0251 - val_loss: 0.0250\n",
            "Epoch 16/50\n",
            "60000/60000 [==============================] - 4s 69us/step - loss: 0.0251 - val_loss: 0.0252\n",
            "Epoch 17/50\n",
            "60000/60000 [==============================] - 4s 68us/step - loss: 0.0250 - val_loss: 0.0250\n",
            "Epoch 18/50\n",
            "60000/60000 [==============================] - 4s 69us/step - loss: 0.0249 - val_loss: 0.0248\n",
            "Epoch 19/50\n",
            "60000/60000 [==============================] - 4s 69us/step - loss: 0.0248 - val_loss: 0.0246\n",
            "Epoch 20/50\n",
            "60000/60000 [==============================] - 4s 69us/step - loss: 0.0246 - val_loss: 0.0244\n",
            "Epoch 21/50\n",
            "60000/60000 [==============================] - 4s 70us/step - loss: 0.0244 - val_loss: 0.0245\n",
            "Epoch 22/50\n",
            "60000/60000 [==============================] - 4s 69us/step - loss: 0.0244 - val_loss: 0.0243\n",
            "Epoch 23/50\n",
            "60000/60000 [==============================] - 4s 68us/step - loss: 0.0243 - val_loss: 0.0242\n",
            "Epoch 24/50\n",
            "60000/60000 [==============================] - 4s 68us/step - loss: 0.0242 - val_loss: 0.0242\n",
            "Epoch 25/50\n",
            "60000/60000 [==============================] - 4s 69us/step - loss: 0.0242 - val_loss: 0.0241\n",
            "Epoch 26/50\n",
            "60000/60000 [==============================] - 4s 68us/step - loss: 0.0241 - val_loss: 0.0241\n",
            "Epoch 27/50\n",
            "60000/60000 [==============================] - 4s 69us/step - loss: 0.0240 - val_loss: 0.0241\n",
            "Epoch 28/50\n",
            "60000/60000 [==============================] - 4s 69us/step - loss: 0.0240 - val_loss: 0.0240\n",
            "Epoch 29/50\n",
            "60000/60000 [==============================] - 4s 69us/step - loss: 0.0240 - val_loss: 0.0240\n",
            "Epoch 30/50\n",
            "60000/60000 [==============================] - 4s 70us/step - loss: 0.0240 - val_loss: 0.0240\n",
            "Epoch 31/50\n",
            "60000/60000 [==============================] - 4s 69us/step - loss: 0.0239 - val_loss: 0.0239\n",
            "Epoch 32/50\n",
            "60000/60000 [==============================] - 4s 70us/step - loss: 0.0239 - val_loss: 0.0239\n",
            "Epoch 33/50\n",
            "60000/60000 [==============================] - 4s 68us/step - loss: 0.0233 - val_loss: 0.0223\n",
            "Epoch 34/50\n",
            "60000/60000 [==============================] - 4s 69us/step - loss: 0.0219 - val_loss: 0.0216\n",
            "Epoch 35/50\n",
            "60000/60000 [==============================] - 4s 69us/step - loss: 0.0215 - val_loss: 0.0214\n",
            "Epoch 36/50\n",
            "60000/60000 [==============================] - 4s 70us/step - loss: 0.0212 - val_loss: 0.0211\n",
            "Epoch 37/50\n",
            "60000/60000 [==============================] - 4s 69us/step - loss: 0.0210 - val_loss: 0.0209\n",
            "Epoch 38/50\n",
            "60000/60000 [==============================] - 4s 69us/step - loss: 0.0208 - val_loss: 0.0208\n",
            "Epoch 39/50\n",
            "60000/60000 [==============================] - 4s 71us/step - loss: 0.0207 - val_loss: 0.0208\n",
            "Epoch 40/50\n",
            "60000/60000 [==============================] - 4s 70us/step - loss: 0.0206 - val_loss: 0.0207\n",
            "Epoch 41/50\n",
            "60000/60000 [==============================] - 4s 70us/step - loss: 0.0204 - val_loss: 0.0205\n",
            "Epoch 42/50\n",
            "60000/60000 [==============================] - 4s 70us/step - loss: 0.0203 - val_loss: 0.0204\n",
            "Epoch 43/50\n",
            "60000/60000 [==============================] - 4s 69us/step - loss: 0.0202 - val_loss: 0.0203\n",
            "Epoch 44/50\n",
            "60000/60000 [==============================] - 4s 70us/step - loss: 0.0201 - val_loss: 0.0203\n",
            "Epoch 45/50\n",
            "60000/60000 [==============================] - 4s 69us/step - loss: 0.0200 - val_loss: 0.0201\n",
            "Epoch 46/50\n",
            "60000/60000 [==============================] - 4s 70us/step - loss: 0.0199 - val_loss: 0.0200\n",
            "Epoch 47/50\n",
            "60000/60000 [==============================] - 4s 70us/step - loss: 0.0199 - val_loss: 0.0202\n",
            "Epoch 48/50\n",
            "60000/60000 [==============================] - 4s 69us/step - loss: 0.0198 - val_loss: 0.0199\n",
            "Epoch 49/50\n",
            "60000/60000 [==============================] - 4s 69us/step - loss: 0.0197 - val_loss: 0.0198\n",
            "Epoch 50/50\n",
            "60000/60000 [==============================] - 4s 69us/step - loss: 0.0196 - val_loss: 0.0198\n"
          ],
          "name": "stdout"
        }
      ]
    },
    {
      "cell_type": "code",
      "metadata": {
        "id": "meAKoJdfUsbQ",
        "colab_type": "code",
        "outputId": "f20bea19-ffce-4e51-a5cd-e2a1b361a543",
        "colab": {
          "base_uri": "https://localhost:8080/",
          "height": 268
        }
      },
      "source": [
        "import matplotlib.pyplot as plt\n",
        "\n",
        "plt.figure(figsize=(40, 4))\n",
        "for i in range(10):\n",
        "    # display original images\n",
        "    ax = plt.subplot(3, 20, i + 1)\n",
        "    plt.imshow(x_test[i].reshape(28, 28))\n",
        "    plt.gray()\n",
        "    ax.get_xaxis().set_visible(False)\n",
        "    ax.get_yaxis().set_visible(False)\n",
        "    \n",
        "    # display encoded images\n",
        "    ax = plt.subplot(3, 20, i + 1 + 20)\n",
        "    plt.imshow(encoded_imgs[i].reshape(2,1))\n",
        "    plt.gray()\n",
        "    ax.get_xaxis().set_visible(False)\n",
        "    ax.get_yaxis().set_visible(False)\n",
        "    \n",
        "    # display reconstructed images\n",
        "    ax = plt.subplot(3, 20, 2*20 +i+ 1)\n",
        "    plt.imshow(predicted[i].reshape(28, 28))\n",
        "    plt.gray()\n",
        "    ax.get_xaxis().set_visible(False)\n",
        "    ax.get_yaxis().set_visible(False)\n",
        "  \n",
        "    \n",
        "plt.show()"
      ],
      "execution_count": 6,
      "outputs": [
        {
          "output_type": "display_data",
          "data": {
            "image/png": "[encoded data removed]",
            "text/plain": [
              "<Figure size 2880x288 with 30 Axes>"
            ]
          },
          "metadata": {
            "tags": []
          }
        }
      ]
    },
    {
      "cell_type": "markdown",
      "metadata": {
        "id": "Lcs1_gyHLOmt",
        "colab_type": "text"
      },
      "source": [
        "# Generating random digits"
      ]
    },
    {
      "cell_type": "code",
      "metadata": {
        "id": "Rn8c3vzzI2ac",
        "colab_type": "code",
        "colab": {}
      },
      "source": [
        "\n",
        "generated_inputs = np.asarray([[x, y] for x in np.arange(0, 1, 0.1)\n",
        "                               for y in np.arange(0, 1, 0.1)], dtype=np.float32)\n",
        "generated = decoder.predict(generated_inputs)"
      ],
      "execution_count": 0,
      "outputs": []
    },
    {
      "cell_type": "code",
      "metadata": {
        "id": "QgUW2PwiJmma",
        "colab_type": "code",
        "outputId": "04fd0030-0065-4f33-965f-3b04f055f0ff",
        "colab": {
          "base_uri": "https://localhost:8080/",
          "height": 248
        }
      },
      "source": [
        "import matplotlib.pyplot as plt\n",
        "\n",
        "for i in range(100):\n",
        "    # display original images\n",
        "    ax = plt.subplot(10, 10, i + 1)\n",
        "    plt.imshow(generated[i].reshape(28, 28))\n",
        "    plt.gray()\n",
        "    ax.get_xaxis().set_visible(False)\n",
        "    ax.get_yaxis().set_visible(False)\n",
        "    \n",
        "    \n",
        "plt.show()"
      ],
      "execution_count": 13,
      "outputs": [
        {
          "output_type": "display_data",
          "data": {
            "image/png": "[encoded data removed]",
            "text/plain": [
              "<Figure size 432x288 with 100 Axes>"
            ]
          },
          "metadata": {
            "tags": []
          }
        }
      ]
    },
    {
      "cell_type": "code",
      "metadata": {
        "id": "a20rGO_JwRNh",
        "colab_type": "code",
        "colab": {
          "base_uri": "https://localhost:8080/",
          "height": 35
        },
        "outputId": "ed2f3d00-30bf-42db-8f52-c328789aac09"
      },
      "source": [
        "print(encoded_imgs[0])"
      ],
      "execution_count": 15,
      "outputs": [
        {
          "output_type": "stream",
          "text": [
            "[1.6010551 0.7873676]\n"
          ],
          "name": "stdout"
        }
      ]
    }
  ]
}