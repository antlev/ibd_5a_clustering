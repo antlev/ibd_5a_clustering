{
  "nbformat": 4,
  "nbformat_minor": 0,
  "metadata": {
    "colab": {
      "name": "simple_autoencoder.ipynb",
      "version": "0.3.2",
      "provenance": [],
      "collapsed_sections": []
    },
    "language_info": {
      "codemirror_mode": {
        "name": "ipython",
        "version": 3
      },
      "file_extension": ".py",
      "mimetype": "text/x-python",
      "name": "python",
      "nbconvert_exporter": "python",
      "pygments_lexer": "ipython3",
      "version": "3.6.6"
    },
    "kernelspec": {
      "display_name": "Python 3",
      "language": "python",
      "name": "python3"
    }
  },
  "cells": [
    {
      "cell_type": "markdown",
      "metadata": {
        "id": "BWY72ai1YMZt",
        "colab_type": "text"
      },
      "source": [
        "# Simple autoencoder - Mnist\n",
        "\n",
        "## Import Mnist data"
      ]
    },
    {
      "cell_type": "code",
      "metadata": {
        "id": "kNYG_y3tYMZu",
        "colab_type": "code",
        "outputId": "dbdcbe85-0c5e-493e-beb9-4ea9fefb566f",
        "colab": {}
      },
      "source": [
        "from keras.datasets import mnist\n",
        "import numpy as np\n",
        "(x_train, _), (x_test, _) = mnist.load_data()\n",
        "\n",
        "x_train = x_train.astype('float32') / 255.\n",
        "x_test = x_test.astype('float32') / 255.\n",
        "x_train = x_train.reshape((len(x_train), np.prod(x_train.shape[1:])))\n",
        "x_test = x_test.reshape((len(x_test), np.prod(x_test.shape[1:])))\n",
        "print (x_train.shape)\n",
        "print (x_test.shape)"
      ],
      "execution_count": 0,
      "outputs": [
        {
          "output_type": "stream",
          "text": [
            "Using TensorFlow backend.\n"
          ],
          "name": "stderr"
        },
        {
          "output_type": "stream",
          "text": [
            "(60000, 784)\n",
            "(10000, 784)\n"
          ],
          "name": "stdout"
        }
      ]
    },
    {
      "cell_type": "markdown",
      "metadata": {
        "id": "6zzqKq-nYMZ1",
        "colab_type": "text"
      },
      "source": [
        "## Autoencoder structure"
      ]
    },
    {
      "cell_type": "code",
      "metadata": {
        "id": "BTczTwgcYMZ3",
        "colab_type": "code",
        "colab": {}
      },
      "source": [
        "from keras.layers import Input, Dense\n",
        "from keras.models import Model\n",
        "\n",
        "# this is the size of our encoded representations\n",
        "encoding_dim = 32  # 32 floats -> compression of factor 24.5, assuming the input is 784 floats\n",
        "\n",
        "# this is our input placeholder\n",
        "input_img = Input(shape=(784,))\n",
        "# \"encoded\" is the encoded representation of the input\n",
        "encoded = Dense(encoding_dim, activation='relu')(input_img)\n",
        "# \"decoded\" is the lossy reconstruction of the input\n",
        "decoded = Dense(784, activation='sigmoid')(encoded)\n",
        "\n",
        "encoder = Model(input_img, encoded)\n",
        "autoencoder=Model(input_img, decoded)\n",
        "\n",
        "autoencoder.compile(optimizer='adadelta', loss='binary_crossentropy')"
      ],
      "execution_count": 0,
      "outputs": []
    },
    {
      "cell_type": "code",
      "metadata": {
        "id": "PXjncsbyYMZ9",
        "colab_type": "code",
        "outputId": "5771ca61-50fd-4310-bab0-b8f2a26980d4",
        "colab": {}
      },
      "source": [
        "autoencoder.fit(x_train, x_train,\n",
        "                epochs=50,\n",
        "                batch_size=256,\n",
        "                shuffle=True,\n",
        "                validation_data=(x_test, x_test))"
      ],
      "execution_count": 0,
      "outputs": [
        {
          "output_type": "stream",
          "text": [
            "Train on 60000 samples, validate on 10000 samples\n",
            "Epoch 1/50\n",
            "60000/60000 [==============================] - 2s 39us/step - loss: 0.3672 - val_loss: 0.2715\n",
            "Epoch 2/50\n",
            "60000/60000 [==============================] - 2s 29us/step - loss: 0.2646 - val_loss: 0.2542\n",
            "Epoch 3/50\n",
            "60000/60000 [==============================] - 2s 28us/step - loss: 0.2445 - val_loss: 0.2327\n",
            "Epoch 4/50\n",
            "60000/60000 [==============================] - 2s 28us/step - loss: 0.2254 - val_loss: 0.2154\n",
            "Epoch 5/50\n",
            "60000/60000 [==============================] - 2s 28us/step - loss: 0.2102 - val_loss: 0.2024\n",
            "Epoch 6/50\n",
            "60000/60000 [==============================] - 2s 28us/step - loss: 0.1991 - val_loss: 0.1928\n",
            "Epoch 7/50\n",
            "60000/60000 [==============================] - 2s 30us/step - loss: 0.1903 - val_loss: 0.1847\n",
            "Epoch 8/50\n",
            "60000/60000 [==============================] - 2s 29us/step - loss: 0.1827 - val_loss: 0.1777\n",
            "Epoch 9/50\n",
            "60000/60000 [==============================] - 2s 28us/step - loss: 0.1763 - val_loss: 0.1719\n",
            "Epoch 10/50\n",
            "60000/60000 [==============================] - 2s 28us/step - loss: 0.1709 - val_loss: 0.1669\n",
            "Epoch 11/50\n",
            "60000/60000 [==============================] - 2s 28us/step - loss: 0.1662 - val_loss: 0.1625\n",
            "Epoch 12/50\n",
            "60000/60000 [==============================] - 2s 29us/step - loss: 0.1621 - val_loss: 0.1587\n",
            "Epoch 13/50\n",
            "60000/60000 [==============================] - 2s 29us/step - loss: 0.1584 - val_loss: 0.1551\n",
            "Epoch 14/50\n",
            "60000/60000 [==============================] - 2s 28us/step - loss: 0.1549 - val_loss: 0.1516\n",
            "Epoch 15/50\n",
            "60000/60000 [==============================] - 2s 28us/step - loss: 0.1516 - val_loss: 0.1485\n",
            "Epoch 16/50\n",
            "60000/60000 [==============================] - 2s 30us/step - loss: 0.1485 - val_loss: 0.1453\n",
            "Epoch 17/50\n",
            "60000/60000 [==============================] - 2s 29us/step - loss: 0.1456 - val_loss: 0.1424\n",
            "Epoch 18/50\n",
            "60000/60000 [==============================] - 2s 27us/step - loss: 0.1428 - val_loss: 0.1398\n",
            "Epoch 19/50\n",
            "60000/60000 [==============================] - 2s 28us/step - loss: 0.1402 - val_loss: 0.1373\n",
            "Epoch 20/50\n",
            "60000/60000 [==============================] - 2s 27us/step - loss: 0.1378 - val_loss: 0.1349\n",
            "Epoch 21/50\n",
            "60000/60000 [==============================] - 2s 27us/step - loss: 0.1355 - val_loss: 0.1326\n",
            "Epoch 22/50\n",
            "60000/60000 [==============================] - 2s 27us/step - loss: 0.1333 - val_loss: 0.1305\n",
            "Epoch 23/50\n",
            "60000/60000 [==============================] - 2s 27us/step - loss: 0.1312 - val_loss: 0.1284\n",
            "Epoch 24/50\n",
            "60000/60000 [==============================] - 2s 27us/step - loss: 0.1292 - val_loss: 0.1265\n",
            "Epoch 25/50\n",
            "60000/60000 [==============================] - 2s 27us/step - loss: 0.1272 - val_loss: 0.1245\n",
            "Epoch 26/50\n",
            "60000/60000 [==============================] - 2s 29us/step - loss: 0.1253 - val_loss: 0.1227\n",
            "Epoch 27/50\n",
            "60000/60000 [==============================] - 2s 29us/step - loss: 0.1235 - val_loss: 0.1210\n",
            "Epoch 28/50\n",
            "60000/60000 [==============================] - 2s 28us/step - loss: 0.1218 - val_loss: 0.1193\n",
            "Epoch 29/50\n",
            "60000/60000 [==============================] - 2s 27us/step - loss: 0.1202 - val_loss: 0.1178\n",
            "Epoch 30/50\n",
            "60000/60000 [==============================] - 2s 27us/step - loss: 0.1187 - val_loss: 0.1163\n",
            "Epoch 31/50\n",
            "60000/60000 [==============================] - 2s 27us/step - loss: 0.1172 - val_loss: 0.1149\n",
            "Epoch 32/50\n",
            "60000/60000 [==============================] - 2s 27us/step - loss: 0.1159 - val_loss: 0.1136\n",
            "Epoch 33/50\n",
            "60000/60000 [==============================] - 2s 28us/step - loss: 0.1146 - val_loss: 0.1124\n",
            "Epoch 34/50\n",
            "60000/60000 [==============================] - 2s 27us/step - loss: 0.1135 - val_loss: 0.1113\n",
            "Epoch 35/50\n",
            "60000/60000 [==============================] - 2s 28us/step - loss: 0.1124 - val_loss: 0.1103\n",
            "Epoch 36/50\n",
            "60000/60000 [==============================] - 2s 29us/step - loss: 0.1114 - val_loss: 0.1093\n",
            "Epoch 37/50\n",
            "60000/60000 [==============================] - 2s 28us/step - loss: 0.1105 - val_loss: 0.1085\n",
            "Epoch 38/50\n",
            "60000/60000 [==============================] - 2s 28us/step - loss: 0.1097 - val_loss: 0.1077\n",
            "Epoch 39/50\n",
            "60000/60000 [==============================] - 2s 27us/step - loss: 0.1089 - val_loss: 0.1070\n",
            "Epoch 40/50\n",
            "60000/60000 [==============================] - 2s 28us/step - loss: 0.1082 - val_loss: 0.1062\n",
            "Epoch 41/50\n",
            "60000/60000 [==============================] - 2s 28us/step - loss: 0.1075 - val_loss: 0.1056\n",
            "Epoch 42/50\n",
            "60000/60000 [==============================] - 2s 28us/step - loss: 0.1069 - val_loss: 0.1050\n",
            "Epoch 43/50\n",
            "60000/60000 [==============================] - 2s 28us/step - loss: 0.1063 - val_loss: 0.1044\n",
            "Epoch 44/50\n",
            "60000/60000 [==============================] - 2s 27us/step - loss: 0.1057 - val_loss: 0.1039\n",
            "Epoch 45/50\n",
            "60000/60000 [==============================] - 2s 30us/step - loss: 0.1052 - val_loss: 0.1034\n",
            "Epoch 46/50\n",
            "60000/60000 [==============================] - 2s 28us/step - loss: 0.1047 - val_loss: 0.1029\n",
            "Epoch 47/50\n",
            "60000/60000 [==============================] - 2s 27us/step - loss: 0.1042 - val_loss: 0.1024\n",
            "Epoch 48/50\n",
            "60000/60000 [==============================] - 2s 27us/step - loss: 0.1038 - val_loss: 0.1020\n",
            "Epoch 49/50\n",
            "60000/60000 [==============================] - 2s 28us/step - loss: 0.1034 - val_loss: 0.1016\n",
            "Epoch 50/50\n",
            "60000/60000 [==============================] - 2s 28us/step - loss: 0.1030 - val_loss: 0.1013\n"
          ],
          "name": "stdout"
        },
        {
          "output_type": "execute_result",
          "data": {
            "text/plain": [
              "<keras.callbacks.History at 0x18ec50f8470>"
            ]
          },
          "metadata": {
            "tags": []
          },
          "execution_count": 3
        }
      ]
    },
    {
      "cell_type": "markdown",
      "metadata": {
        "id": "QW-tAf03YMaE",
        "colab_type": "text"
      },
      "source": [
        "## Testing autoencoder prediction"
      ]
    },
    {
      "cell_type": "code",
      "metadata": {
        "id": "sgwKkHlcYMaF",
        "colab_type": "code",
        "colab": {}
      },
      "source": [
        "encoded_imgs = encoder.predict(x_test)\n",
        "predicted = autoencoder.predict(x_test)"
      ],
      "execution_count": 0,
      "outputs": []
    },
    {
      "cell_type": "markdown",
      "metadata": {
        "id": "UKdalCg_YMaJ",
        "colab_type": "text"
      },
      "source": [
        "## Plotting"
      ]
    },
    {
      "cell_type": "code",
      "metadata": {
        "id": "k-F3_4BpYMaK",
        "colab_type": "code",
        "outputId": "895b5e2f-9982-406c-a98c-bf79ee22db3c",
        "colab": {}
      },
      "source": [
        "import matplotlib.pyplot as plt\n",
        "\n",
        "plt.figure(figsize=(40, 4))\n",
        "for i in range(10):\n",
        "    # display original images\n",
        "    ax = plt.subplot(3, 20, i + 1)\n",
        "    plt.imshow(x_test[i].reshape(28, 28))\n",
        "    plt.gray()\n",
        "    ax.get_xaxis().set_visible(False)\n",
        "    ax.get_yaxis().set_visible(False)\n",
        "    \n",
        "    # display encoded images\n",
        "    ax = plt.subplot(3, 20, i + 1 + 20)\n",
        "    plt.imshow(encoded_imgs[i].reshape(8,4))\n",
        "    plt.gray()\n",
        "    ax.get_xaxis().set_visible(False)\n",
        "    ax.get_yaxis().set_visible(False)\n",
        "    \n",
        "    # display reconstructed images\n",
        "    ax = plt.subplot(3, 20, 2*20 +i+ 1)\n",
        "    plt.imshow(predicted[i].reshape(28, 28))\n",
        "    plt.gray()\n",
        "    ax.get_xaxis().set_visible(False)\n",
        "    ax.get_yaxis().set_visible(False)\n",
        "  \n",
        "    \n",
        "plt.show()"
      ],
      "execution_count": 0,
      "outputs": [
        {
          "output_type": "display_data",
          "data": {
            "image/png": "[encoded data removed]",
            "text/plain": [
              "<matplotlib.figure.Figure at 0x18ed0938240>"
            ]
          },
          "metadata": {
            "tags": [],
            "needs_background": "light"
          }
        }
      ]
    },
    {
      "cell_type": "code",
      "metadata": {
        "id": "LpSToZQCYMaP",
        "colab_type": "code",
        "colab": {}
      },
      "source": [
        ""
      ],
      "execution_count": 0,
      "outputs": []
    }
  ]
}