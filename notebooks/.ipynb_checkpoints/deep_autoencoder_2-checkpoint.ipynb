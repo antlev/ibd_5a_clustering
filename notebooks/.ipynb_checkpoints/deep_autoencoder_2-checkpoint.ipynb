{
 "cells": [
  {
   "cell_type": "markdown",
   "metadata": {},
   "source": [
    "# Simple deep_autoencoder - Mnist\n",
    "\n",
    "## Import Mnist data"
   ]
  },
  {
   "cell_type": "code",
   "execution_count": 1,
   "metadata": {},
   "outputs": [
    {
     "name": "stderr",
     "output_type": "stream",
     "text": [
      "Using TensorFlow backend.\n"
     ]
    },
    {
     "name": "stdout",
     "output_type": "stream",
     "text": [
      "(60000, 784)\n",
      "(10000, 784)\n"
     ]
    }
   ],
   "source": [
    "from keras.datasets import mnist\n",
    "import numpy as np\n",
    "(x_train, _), (x_test, _) = mnist.load_data()\n",
    "\n",
    "x_train = x_train.astype('float32') / 255.\n",
    "x_test = x_test.astype('float32') / 255.\n",
    "x_train = x_train.reshape((len(x_train), np.prod(x_train.shape[1:])))\n",
    "x_test = x_test.reshape((len(x_test), np.prod(x_test.shape[1:])))\n",
    "print (x_train.shape)\n",
    "print (x_test.shape)"
   ]
  },
  {
   "cell_type": "markdown",
   "metadata": {},
   "source": [
    "## Deep_autoencoder structure"
   ]
  },
  {
   "cell_type": "code",
   "execution_count": 2,
   "metadata": {},
   "outputs": [],
   "source": [
    "# from keras.layers import Input, Dense\n",
    "# from keras.models import Model\n",
    "# from keras import regularizers\n",
    "\n",
    "# # this is the size of our encoded representations\n",
    "# encoding_dim = 32  # 32 floats -> compression of factor 24.5, assuming the input is 784 floats\n",
    "\n",
    "# input_img = Input(shape=(784,))\n",
    "# encoded = Dense(128, activation='relu')(input_img)\n",
    "# encoded = Dense(64, activation='relu')(encoded)\n",
    "# encoded = Dense(32, activation='relu')(encoded)\n",
    "\n",
    "# decoded = Dense(64, activation='relu')(encoded)\n",
    "# decoded = Dense(128, activation='relu')(decoded)\n",
    "# decoded = Dense(784, activation='sigmoid')(decoded)\n"
   ]
  },
  {
   "cell_type": "markdown",
   "metadata": {},
   "source": [
    "## Training Model"
   ]
  },
  {
   "cell_type": "code",
   "execution_count": 3,
   "metadata": {},
   "outputs": [],
   "source": [
    "# encoder = Model(input_img, encoded)\n",
    "# autoencoder=Model(input_img, decoded)\n",
    "\n",
    "# encoded_dim=Input(shape=(32,))\n",
    "\n",
    "# decoder= Model(encoded_dim, decoded)\n",
    "# # decoder = Model(input=encoded_dim, output=autoencoder.layers[-1](autoencoder.layers[-2](autoencoder.layers[-3](encoded_dim))))\n",
    "\n",
    "# autoencoder.compile(optimizer='adadelta', loss='binary_crossentropy')\n",
    "\n",
    "# autoencoder.fit(x_train, x_train,\n",
    "#                 epochs=50,\n",
    "#                 batch_size=256,\n",
    "#                 shuffle=True,\n",
    "#                 validation_data=(x_test, x_test))\n"
   ]
  },
  {
   "cell_type": "markdown",
   "metadata": {},
   "source": [
    "## Testing deep_autoencoder prediction"
   ]
  },
  {
   "cell_type": "code",
   "execution_count": 4,
   "metadata": {},
   "outputs": [],
   "source": [
    "# encoded_imgs = encoder.predict(x_test)\n",
    "# # predicted = autoencoder.predict(x_test)"
   ]
  },
  {
   "cell_type": "markdown",
   "metadata": {},
   "source": [
    "## Ploting"
   ]
  },
  {
   "cell_type": "code",
   "execution_count": 5,
   "metadata": {},
   "outputs": [],
   "source": [
    "# import matplotlib.pyplot as plt\n",
    "\n",
    "# plt.figure(figsize=(40, 4))\n",
    "# for i in range(10):\n",
    "#     # display original images\n",
    "#     ax = plt.subplot(3, 20, i + 1)\n",
    "#     plt.imshow(x_test[i].reshape(28, 28))\n",
    "#     plt.gray()\n",
    "#     ax.get_xaxis().set_visible(False)\n",
    "#     ax.get_yaxis().set_visible(False)\n",
    "    \n",
    "#     # display encoded images\n",
    "#     ax = plt.subplot(3, 20, i + 1 + 20)\n",
    "#     plt.imshow(encoded_imgs[i].reshape(8,4))\n",
    "#     plt.gray()\n",
    "#     ax.get_xaxis().set_visible(False)\n",
    "#     ax.get_yaxis().set_visible(False)\n",
    "    \n",
    "#     # display reconstructed images\n",
    "#     ax = plt.subplot(3, 20, 2*20 +i+ 1)\n",
    "#     plt.imshow(predicted[i].reshape(28, 28))\n",
    "#     plt.gray()\n",
    "#     ax.get_xaxis().set_visible(False)\n",
    "#     ax.get_yaxis().set_visible(False)\n",
    "  \n",
    "    \n",
    "# plt.show()"
   ]
  },
  {
   "cell_type": "markdown",
   "metadata": {},
   "source": []
  },
  {
   "cell_type": "code",
   "execution_count": 6,
   "metadata": {},
   "outputs": [],
   "source": [
    "from typing import Callable, List, Tuple, Union\n",
    "\n",
    "from keras.layers import Dense, Input, Layer\n",
    "from keras import Model\n",
    "\n",
    "\n",
    "def _architecture_builder(input_shape: Tuple, output_shape: int, neurons: List[int]) -> List[Layer]:\n",
    "    layers = [Input(input_shape)]\n",
    "    for n in neurons:\n",
    "        layers.append(Dense(n, activation='relu'))\n",
    "    layers.append(Dense(output_shape, activation='sigmoid'))\n",
    "    return layers\n",
    "\n",
    "\n",
    "def _model_builder(layers: List[Layer]) -> Model:\n",
    "    inputs = layers[0]\n",
    "    layer = layers[1](inputs)\n",
    "    for l in layers[2:]:\n",
    "        layer = l(layer)\n",
    "    model = Model(inputs, layer)\n",
    "    return model\n",
    "\n",
    "\n",
    "def dense_encoder_decoder(input_shape: Tuple, output_shape: int, encoder_size: int, neurons: List[int],\n",
    "                          optimizer: Union[Callable, str] = 'adam', loss: Union[Callable, str] = 'mse')\\\n",
    "        -> Tuple[Model, Model, Model]:\n",
    "\n",
    "    encoder_layers = _architecture_builder(input_shape, encoder_size, neurons)\n",
    "    decoder_layers = _architecture_builder((encoder_size,), output_shape, neurons[::-1])\n",
    "    encoder_decoder_layers = encoder_layers + decoder_layers[1:]\n",
    "    encoder = _model_builder(encoder_layers)\n",
    "    decoder = _model_builder(decoder_layers)\n",
    "    encoder_decoder = _model_builder(encoder_decoder_layers)\n",
    "    encoder_decoder.compile(optimizer=optimizer, loss=loss)\n",
    "    return encoder_decoder, encoder, decoder"
   ]
  },
  {
   "cell_type": "code",
   "execution_count": 7,
   "metadata": {},
   "outputs": [],
   "source": [
    "autoencoder, encoder, decoder = dense_encoder_decoder((784,), 784, 2, [784,128,64,32])\n",
    "\n",
    "autoencoder.compile(optimizer='adadelta', loss='binary_crossentropy')"
   ]
  },
  {
   "cell_type": "code",
   "execution_count": null,
   "metadata": {},
   "outputs": [
    {
     "name": "stdout",
     "output_type": "stream",
     "text": [
      "Train on 60000 samples, validate on 10000 samples\n",
      "Epoch 1/50\n",
      "60000/60000 [==============================] - 10s 174us/step - loss: 0.4021 - val_loss: 0.2638\n",
      "Epoch 2/50\n",
      "60000/60000 [==============================] - 10s 160us/step - loss: 0.2633 - val_loss: 0.2631\n",
      "Epoch 3/50\n",
      "60000/60000 [==============================] - 9s 158us/step - loss: 0.2632 - val_loss: 0.2631\n",
      "Epoch 4/50\n",
      "60000/60000 [==============================] - 10s 162us/step - loss: 0.2631 - val_loss: 0.2632\n",
      "Epoch 5/50\n",
      "60000/60000 [==============================] - 10s 162us/step - loss: 0.2631 - val_loss: 0.2631\n",
      "Epoch 6/50\n",
      "60000/60000 [==============================] - 10s 161us/step - loss: 0.2631 - val_loss: 0.2630\n",
      "Epoch 7/50\n",
      "60000/60000 [==============================] - 10s 160us/step - loss: 0.2631 - val_loss: 0.2632\n",
      "Epoch 8/50\n",
      "60000/60000 [==============================] - 9s 157us/step - loss: 0.2631 - val_loss: 0.2631\n",
      "Epoch 9/50\n",
      "60000/60000 [==============================] - 10s 160us/step - loss: 0.2631 - val_loss: 0.2629\n",
      "Epoch 10/50\n",
      "60000/60000 [==============================] - 10s 161us/step - loss: 0.2631 - val_loss: 0.2630\n",
      "Epoch 11/50\n",
      "60000/60000 [==============================] - 10s 170us/step - loss: 0.2631 - val_loss: 0.2630\n",
      "Epoch 12/50\n",
      "60000/60000 [==============================] - 13s 215us/step - loss: 0.2630 - val_loss: 0.2630\n",
      "Epoch 13/50\n",
      "60000/60000 [==============================] - 13s 222us/step - loss: 0.2630 - val_loss: 0.2633\n",
      "Epoch 14/50\n",
      "60000/60000 [==============================] - 13s 222us/step - loss: 0.2620 - val_loss: 0.2588\n",
      "Epoch 15/50\n",
      "60000/60000 [==============================] - 13s 221us/step - loss: 0.2545 - val_loss: 0.2525\n",
      "Epoch 16/50\n",
      "57600/60000 [===========================>..] - ETA: 0s - loss: 0.2517"
     ]
    }
   ],
   "source": [
    "autoencoder.fit(x_train, x_train,\n",
    "                epochs=50,\n",
    "                batch_size=256,\n",
    "                shuffle=True,\n",
    "                validation_data=(x_test, x_test))"
   ]
  }
 ],
 "metadata": {
  "kernelspec": {
   "display_name": "Python 3",
   "language": "python",
   "name": "python3"
  },
  "language_info": {
   "codemirror_mode": {
    "name": "ipython",
    "version": 3
   },
   "file_extension": ".py",
   "mimetype": "text/x-python",
   "name": "python",
   "nbconvert_exporter": "python",
   "pygments_lexer": "ipython3",
   "version": "3.5.6"
  }
 },
 "nbformat": 4,
 "nbformat_minor": 2
}
